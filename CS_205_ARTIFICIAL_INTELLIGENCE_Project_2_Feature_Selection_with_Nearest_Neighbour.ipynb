{
  "nbformat": 4,
  "nbformat_minor": 0,
  "metadata": {
    "colab": {
      "provenance": []
    },
    "kernelspec": {
      "name": "python3",
      "display_name": "Python 3"
    },
    "language_info": {
      "name": "python"
    }
  },
  "cells": [
    {
      "cell_type": "code",
      "execution_count": 23,
      "metadata": {
        "id": "dH-zA443Fdbn"
      },
      "outputs": [],
      "source": [
        "import numpy as np\n",
        "import math\n",
        "import matplotlib.pyplot as plt"
      ]
    },
    {
      "cell_type": "code",
      "source": [
        "def NN_leave_one_out(dataset, current_features, feature, mode):\n",
        "    correct_predictions = 0\n",
        "\n",
        "    if mode == 1:\n",
        "        updated_features = current_features.copy()\n",
        "        updated_features.append(feature)\n",
        "    else:\n",
        "        updated_features = [f for f in current_features if f != feature]\n",
        "\n",
        "    data_np = np.asarray(dataset)\n",
        "    num_instances = data_np.shape[0]\n",
        "    feature_set = data_np[:, updated_features]\n",
        "    labels = data_np[:, 0]\n",
        "\n",
        "    correct_predictions = sum(\n",
        "        1 for index in range(num_instances)\n",
        "        if labels[index] == np.delete(labels, index)[np.argmin(\n",
        "            np.linalg.norm(np.delete(feature_set, index, axis=0) - feature_set[index], axis=1)\n",
        "        )]\n",
        "    )\n",
        "\n",
        "    accuracy = correct_predictions / num_instances\n",
        "    return accuracy\n"
      ],
      "metadata": {
        "id": "_J4i0nnBF6zd"
      },
      "execution_count": 24,
      "outputs": []
    },
    {
      "cell_type": "code",
      "source": [
        "def forward_select(data, choice, stop_threshold=0.01):\n",
        "    current_features = set()\n",
        "    optimal_features = set()\n",
        "    total_features = len(data[0])\n",
        "    highest_accuracy = 0.0\n",
        "    features_vs_accuracy = []\n",
        "\n",
        "    round = 1\n",
        "    print(\"Beginning search.\")\n",
        "    while round < total_features:\n",
        "        current_best_feature = None\n",
        "        current_best_accuracy = 0.0\n",
        "\n",
        "        remaining_features = [feature for feature in range(1, total_features) if feature not in current_features]\n",
        "\n",
        "        # Evaluate each feature in the remaining features\n",
        "        for feature in remaining_features:\n",
        "            temp_features = list(current_features)\n",
        "            temp_features.append(feature)\n",
        "            accuracy = NN_leave_one_out(data, temp_features, feature, choice)\n",
        "            print(f\"Using feature(s) {temp_features} accuracy is {accuracy:.1%}\")\n",
        "\n",
        "            if accuracy > current_best_accuracy:\n",
        "                current_best_accuracy = accuracy\n",
        "                current_best_feature = feature\n",
        "\n",
        "        # Check if the best feature found in this round improves the accuracy\n",
        "        if current_best_feature is not None:\n",
        "            current_features.add(current_best_feature)\n",
        "            print(f\"\\nFeature set {list(current_features)} was best, accuracy is {current_best_accuracy:.1%}\")\n",
        "\n",
        "            features_vs_accuracy.append((len(current_features), current_best_accuracy))\n",
        "\n",
        "            if current_best_accuracy > highest_accuracy:\n",
        "                optimal_features = current_features.copy()\n",
        "                highest_accuracy = current_best_accuracy\n",
        "            elif highest_accuracy - current_best_accuracy > stop_threshold:\n",
        "                print(f\"(Warning, Accuracy has decreased! Continuing search in case of local maxima)\")\n",
        "                break\n",
        "\n",
        "        round += 1\n",
        "\n",
        "    print(f\"Finished search!! The best feature subset is {list(optimal_features)}, which has an accuracy of {highest_accuracy:.1%}\")\n",
        "\n",
        "    # Plotting the bar graph\n",
        "    plot_feature_vs_accuracy(features_vs_accuracy, \"Forward Selection\")\n"
      ],
      "metadata": {
        "id": "6dSI5S3GF9P-"
      },
      "execution_count": 25,
      "outputs": []
    },
    {
      "cell_type": "code",
      "source": [
        "def backward_elim(data, choice, stop_threshold=0.01):\n",
        "    current_features = set(range(1, len(data[0])))\n",
        "    total_features = len(data[0])\n",
        "    optimal_features = set(current_features)\n",
        "    highest_accuracy = NN_leave_one_out(data, list(current_features), None, choice)\n",
        "    features_vs_accuracy = [(len(current_features), highest_accuracy)]\n",
        "\n",
        "    round = 1\n",
        "    print(\"Beginning search.\")\n",
        "    while current_features:\n",
        "        worst_feature = None\n",
        "        highest_accuracy_round = 0.0\n",
        "\n",
        "        for feature in list(current_features):\n",
        "            temp_features = list(current_features - {feature})\n",
        "            accuracy = NN_leave_one_out(data, temp_features, feature, choice)\n",
        "            print(f\"Using feature(s) {temp_features} accuracy is {accuracy:.1%}\")\n",
        "\n",
        "            if accuracy > highest_accuracy_round:\n",
        "                highest_accuracy_round = accuracy\n",
        "                worst_feature = feature\n",
        "\n",
        "        if worst_feature is not None:\n",
        "            current_features.remove(worst_feature)\n",
        "            print(f\"\\nFeature set {list(current_features)} was best, accuracy is {highest_accuracy_round:.1%}\")\n",
        "\n",
        "            features_vs_accuracy.append((len(current_features), highest_accuracy_round))\n",
        "\n",
        "            if highest_accuracy_round > highest_accuracy:\n",
        "                optimal_features = set(current_features)\n",
        "                highest_accuracy = highest_accuracy_round\n",
        "            elif highest_accuracy - highest_accuracy_round > stop_threshold:\n",
        "                print(f\"(Warning, Accuracy has decreased! Continuing search in case of local maxima)\")\n",
        "                break\n",
        "\n",
        "        round += 1\n",
        "\n",
        "    print(f\"Finished search!! The best feature subset is {list(optimal_features)}, which has an accuracy of {highest_accuracy:.1%}\")\n",
        "\n",
        "    # Plotting the bar graph\n",
        "    plot_feature_vs_accuracy(features_vs_accuracy, \"Backward Elimination\")\n"
      ],
      "metadata": {
        "id": "u-N8J0DdGAUp"
      },
      "execution_count": 26,
      "outputs": []
    },
    {
      "cell_type": "code",
      "source": [
        "def plot_feature_vs_accuracy(features_vs_accuracy, title):\n",
        "    features_vs_accuracy = sorted(features_vs_accuracy)\n",
        "    x = [item[0] for item in features_vs_accuracy]\n",
        "    y = [item[1] for item in features_vs_accuracy]\n",
        "\n",
        "    plt.figure(figsize=(10, 6))\n",
        "    plt.bar(x, y, color='blue', alpha=0.7)\n",
        "    plt.xlabel(\"Number of Features in Subset\")\n",
        "    plt.ylabel(\"Accuracy\")\n",
        "    plt.title(f\"Number of Features vs Accuracy for {title}\")\n",
        "    plt.show()"
      ],
      "metadata": {
        "id": "kxly0HirTuQm"
      },
      "execution_count": 27,
      "outputs": []
    },
    {
      "cell_type": "code",
      "source": [
        "def main():\n",
        "    stop_threshold = 0.01\n",
        "    print(\"Welcome to the Feature Selection Algorithm\")\n",
        "\n",
        "    print(\"Please choose a dataset by entering:\")\n",
        "    print(\"1) Small Dataset (CS205_small_Data__9.txt)\")\n",
        "    print(\"2) Large Dataset (CS205_large_Data__42.txt)\")\n",
        "\n",
        "    dataset_choice = int(input())\n",
        "\n",
        "    if dataset_choice == 1:\n",
        "        data = np.loadtxt(\"CS205_small_Data__9.txt\", dtype=float)\n",
        "    elif dataset_choice == 2:\n",
        "        data = np.loadtxt(\"CS205_large_Data__42.txt\", dtype=float)\n",
        "    else:\n",
        "        print(\"Invalid choice. Please choose either 1 or 2!\")\n",
        "        return\n",
        "\n",
        "    print(\"Please choose an algorithm by entering:\")\n",
        "    print(\"1) Forward Selection\")\n",
        "    print(\"2) Backward Elimination\")\n",
        "\n",
        "    algo_choice = int(input())\n",
        "\n",
        "    if algo_choice == 1:\n",
        "        print(f\"\\nThis dataset has {len(data[0]) - 1} features (not including class attribute), with {len(data)} instances.\\n\")\n",
        "        forward_select(data, algo_choice, stop_threshold)\n",
        "    elif algo_choice == 2:\n",
        "        print(f\"\\nThis dataset has {len(data[0]) - 1} features (not including class attribute), with {len(data)} instances.\\n\")\n",
        "        backward_elim(data, algo_choice, stop_threshold)\n",
        "    else:\n",
        "        print(\"Invalid choice. Please choose either 1 or 2!\")\n",
        "\n",
        "if __name__ == \"__main__\":\n",
        "    main()\n"
      ],
      "metadata": {
        "colab": {
          "base_uri": "https://localhost:8080/",
          "height": 1000
        },
        "id": "osILpwQzGEwU",
        "outputId": "3d5ea835-8eaf-4ae6-d188-cc848b1cc287"
      },
      "execution_count": 29,
      "outputs": [
        {
          "output_type": "stream",
          "name": "stdout",
          "text": [
            "Welcome to the Feature Selection Algorithm\n",
            "Please choose a dataset by entering:\n",
            "1) Small Dataset (CS205_small_Data__9.txt)\n",
            "2) Large Dataset (CS205_large_Data__42.txt)\n",
            "1\n",
            "Please choose an algorithm by entering:\n",
            "1) Forward Selection\n",
            "2) Backward Elimination\n",
            "1\n",
            "\n",
            "This dataset has 12 features (not including class attribute), with 500 instances.\n",
            "\n",
            "Beginning search.\n",
            "Using feature(s) [1] accuracy is 70.6%\n",
            "Using feature(s) [2] accuracy is 70.0%\n",
            "Using feature(s) [3] accuracy is 83.8%\n",
            "Using feature(s) [4] accuracy is 71.8%\n",
            "Using feature(s) [5] accuracy is 68.0%\n",
            "Using feature(s) [6] accuracy is 67.4%\n",
            "Using feature(s) [7] accuracy is 67.8%\n",
            "Using feature(s) [8] accuracy is 68.6%\n",
            "Using feature(s) [9] accuracy is 69.0%\n",
            "Using feature(s) [10] accuracy is 69.0%\n",
            "Using feature(s) [11] accuracy is 71.0%\n",
            "Using feature(s) [12] accuracy is 67.0%\n",
            "\n",
            "Feature set [3] was best, accuracy is 83.8%\n",
            "Using feature(s) [3, 1] accuracy is 82.8%\n",
            "Using feature(s) [3, 2] accuracy is 86.0%\n",
            "Using feature(s) [3, 4] accuracy is 81.0%\n",
            "Using feature(s) [3, 5] accuracy is 82.6%\n",
            "Using feature(s) [3, 6] accuracy is 84.2%\n",
            "Using feature(s) [3, 7] accuracy is 83.0%\n",
            "Using feature(s) [3, 8] accuracy is 83.0%\n",
            "Using feature(s) [3, 9] accuracy is 83.2%\n",
            "Using feature(s) [3, 10] accuracy is 83.4%\n",
            "Using feature(s) [3, 11] accuracy is 96.8%\n",
            "Using feature(s) [3, 12] accuracy is 82.2%\n",
            "\n",
            "Feature set [11, 3] was best, accuracy is 96.8%\n",
            "Using feature(s) [11, 3, 1] accuracy is 90.4%\n",
            "Using feature(s) [11, 3, 2] accuracy is 90.6%\n",
            "Using feature(s) [11, 3, 4] accuracy is 91.4%\n",
            "Using feature(s) [11, 3, 5] accuracy is 91.0%\n",
            "Using feature(s) [11, 3, 6] accuracy is 90.8%\n",
            "Using feature(s) [11, 3, 7] accuracy is 91.0%\n",
            "Using feature(s) [11, 3, 8] accuracy is 90.0%\n",
            "Using feature(s) [11, 3, 9] accuracy is 93.4%\n",
            "Using feature(s) [11, 3, 10] accuracy is 91.4%\n",
            "Using feature(s) [11, 3, 12] accuracy is 92.4%\n",
            "\n",
            "Feature set [11, 9, 3] was best, accuracy is 93.4%\n",
            "(Warning, Accuracy has decreased! Continuing search in case of local maxima)\n",
            "Finished search!! The best feature subset is [11, 3], which has an accuracy of 96.8%\n"
          ]
        },
        {
          "output_type": "display_data",
          "data": {
            "text/plain": [
              "<Figure size 1000x600 with 1 Axes>"
            ],
            "image/png": "[encoded data removed]"
          },
          "metadata": {}
        }
      ]
    }
  ]
}